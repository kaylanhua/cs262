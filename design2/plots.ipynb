{
 "cells": [
  {
   "cell_type": "code",
   "execution_count": null,
   "metadata": {},
   "outputs": [],
   "source": [
    "%pip install pandas matplotlib"
   ]
  },
  {
   "cell_type": "code",
   "execution_count": null,
   "metadata": {},
   "outputs": [],
   "source": [
    "import pandas as pd\n",
    "import matplotlib.pyplot as plt "
   ]
  },
  {
   "cell_type": "code",
   "execution_count": null,
   "metadata": {},
   "outputs": [],
   "source": [
    "# ls -d -1 run-*-p-0.7\n",
    "runs = [\n",
    "'run-ticks-1-1-1--p-0.7',\n",
    "'run-ticks-1-2-3--p-0.7',\n",
    "'run-ticks-1-3-6--p-0.7',\n",
    "'run-ticks-3-4-5--p-0.7',\n",
    "'run-ticks-4-5-6--p-0.7',\n",
    "\n",
    "# 'run-ticks-0.2-0.5-0.1--p-0.3',\n",
    "# 'run-ticks-1-1-1--p-0.3',\n",
    "# 'run-ticks-1-2-3--p-0.3',\n",
    "# 'run-ticks-1-3-6--p-0.3',\n",
    "# 'run-ticks-3-4-5--p-0.3',\n",
    "# 'run-ticks-4-5-6--p-0.3',\n",
    "]"
   ]
  },
  {
   "cell_type": "code",
   "execution_count": null,
   "metadata": {},
   "outputs": [],
   "source": []
  },
  {
   "cell_type": "code",
   "execution_count": null,
   "metadata": {},
   "outputs": [],
   "source": []
  },
  {
   "cell_type": "code",
   "execution_count": null,
   "metadata": {},
   "outputs": [],
   "source": [
    "DURATION = 20\n",
    "for run in runs:\n",
    "    # columns = [\"received\", \"global time\", \"len of queue\", \"logical clock time\"]\n",
    "    A = pd.read_csv(f\"./{run}/machine_A_log.csv\")\n",
    "    B = pd.read_csv(f\"./{run}/machine_B_log.csv\")\n",
    "    C = pd.read_csv(f\"./{run}/machine_C_log.csv\")\n",
    "    \n",
    "    dfs = {\"A\": A, \"B\": B, \"C\": C}\n",
    "    split = run.split('-')\n",
    "    tick_rates = {\"A\": split[2], \"B\": split[3], \"C\": split[4]}\n",
    "    p_internal = split[-1]\n",
    "\n",
    "    print(\"______________________________________________________\")\n",
    "    print(\"Run: \", run)\n",
    "    tick_rates = {\"A\": split[2], \"B\": split[3], \"C\": split[4]}\n",
    "    print(\"______________________________________________________\")\n",
    "    \n",
    "    plt.title(f\"Plot time for run with tick rates {tick_rates} and p_internal {p_internal}\")\n",
    "\n",
    "    for name, df in dfs.items():\n",
    "        start_time = df[\"global time\"][0]\n",
    "        df[\"global time\"] = df[\"global time\"] - start_time\n",
    "        df = df[df[\"global time\"] < DURATION]\n",
    "\n",
    "        plt.plot(df[\"global time\"], df[\"logical clock time\"], label=f\"{name} (tick rate = {tick_rates[name]})\") \n",
    "        \n",
    "    plt.xlabel(\"global time\")\n",
    "    plt.ylabel(\"logical clock time\")\n",
    "    plt.legend()\n",
    "    plt.show()\n",
    "    plt.savefig(f\"./{run}/logical_clock_plot\")\n",
    "\n",
    "\n",
    "    plt.title(f\"Plot queue length for run with tick rates {tick_rates} and p_internal {p_internal}\")\n",
    "\n",
    "    for name, df in dfs.items():\n",
    "        start_time = df[\"global time\"][0]\n",
    "        df[\"global time\"] = df[\"global time\"] - start_time\n",
    "        df = df[df[\"global time\"] < DURATION * 1000]\n",
    "\n",
    "        plt.plot(df[\"global time\"], df[\"len of queue\"], label=f\"{name}_queue (tick rate = {tick_rates[name]})\") \n",
    "        \n",
    "\n",
    "    plt.xlabel(\"global time\")\n",
    "    plt.ylabel(\"length of queue\")\n",
    "    plt.legend()\n",
    "    plt.show()\n",
    "    plt.savefig(f\"./{run}/plots_q\")\n",
    "    \n",
    "    "
   ]
  },
  {
   "cell_type": "code",
   "execution_count": null,
   "metadata": {},
   "outputs": [],
   "source": []
  },
  {
   "cell_type": "code",
   "execution_count": null,
   "metadata": {},
   "outputs": [],
   "source": []
  },
  {
   "cell_type": "code",
   "execution_count": null,
   "metadata": {},
   "outputs": [],
   "source": []
  },
  {
   "cell_type": "code",
   "execution_count": null,
   "metadata": {},
   "outputs": [],
   "source": []
  },
  {
   "cell_type": "code",
   "execution_count": null,
   "metadata": {},
   "outputs": [],
   "source": [
    "A"
   ]
  },
  {
   "cell_type": "code",
   "execution_count": null,
   "metadata": {},
   "outputs": [],
   "source": []
  },
  {
   "cell_type": "code",
   "execution_count": 18,
   "metadata": {},
   "outputs": [
    {
     "data": {
      "text/plain": [
       "[<matplotlib.lines.Line2D at 0x12042f850>]"
      ]
     },
     "execution_count": 18,
     "metadata": {},
     "output_type": "execute_result"
    },
    {
     "data": {
      "image/png": "[encoded data removed]",
      "text/plain": [
       "<Figure size 432x288 with 1 Axes>"
      ]
     },
     "metadata": {
      "needs_background": "light"
     },
     "output_type": "display_data"
    }
   ],
   "source": [
    "plt.plot(B[\"global time\"], B[\"logical clock time\"], label=\"B\")"
   ]
  },
  {
   "cell_type": "code",
   "execution_count": null,
   "metadata": {},
   "outputs": [],
   "source": []
  }
 ],
 "metadata": {
  "kernelspec": {
   "display_name": "262",
   "language": "python",
   "name": "python3"
  },
  "language_info": {
   "codemirror_mode": {
    "name": "ipython",
    "version": 3
   },
   "file_extension": ".py",
   "mimetype": "text/x-python",
   "name": "python",
   "nbconvert_exporter": "python",
   "pygments_lexer": "ipython3",
   "version": "3.9.16"
  },
  "orig_nbformat": 4,
  "vscode": {
   "interpreter": {
    "hash": "d2f33f4fe43cd9f9bd3b62961aa1f30c6866a5082061c308c7fa85e2383edf14"
   }
  }
 },
 "nbformat": 4,
 "nbformat_minor": 2
}
