{
 "cells": [
  {
   "cell_type": "code",
   "execution_count": 10,
   "metadata": {},
   "outputs": [],
   "source": [
    "import pandas as pd\n",
    "import matplotlib.pyplot as plt"
   ]
  },
  {
   "cell_type": "code",
   "execution_count": 15,
   "metadata": {},
   "outputs": [],
   "source": [
    "# columns = [\"received\", \"global time\", \"len of queue\", \"logical clock time\"]\n",
    "A = pd.read_csv(\"machine_A_log.csv\")\n",
    "B = pd.read_csv(\"machine_B_log.csv\")\n",
    "C = pd.read_csv(\"machine_C_log.csv\")"
   ]
  },
  {
   "cell_type": "code",
   "execution_count": 16,
   "metadata": {},
   "outputs": [
    {
     "data": {
      "text/html": [
       "<div>\n",
       "<style scoped>\n",
       "    .dataframe tbody tr th:only-of-type {\n",
       "        vertical-align: middle;\n",
       "    }\n",
       "\n",
       "    .dataframe tbody tr th {\n",
       "        vertical-align: top;\n",
       "    }\n",
       "\n",
       "    .dataframe thead th {\n",
       "        text-align: right;\n",
       "    }\n",
       "</style>\n",
       "<table border=\"1\" class=\"dataframe\">\n",
       "  <thead>\n",
       "    <tr style=\"text-align: right;\">\n",
       "      <th></th>\n",
       "      <th>received</th>\n",
       "      <th>global time</th>\n",
       "      <th>len of queue</th>\n",
       "      <th>logical clock time</th>\n",
       "    </tr>\n",
       "  </thead>\n",
       "  <tbody>\n",
       "    <tr>\n",
       "      <th>0</th>\n",
       "      <td>RECEIVED FROM ('127.0.0.1', 60888)</td>\n",
       "      <td>1.678160e+09</td>\n",
       "      <td>1</td>\n",
       "      <td>17</td>\n",
       "    </tr>\n",
       "    <tr>\n",
       "      <th>1</th>\n",
       "      <td>RECEIVED FROM ('127.0.0.1', 61077)</td>\n",
       "      <td>1.678160e+09</td>\n",
       "      <td>2</td>\n",
       "      <td>17</td>\n",
       "    </tr>\n",
       "    <tr>\n",
       "      <th>2</th>\n",
       "      <td>SEND TO B</td>\n",
       "      <td>1.678160e+09</td>\n",
       "      <td>0</td>\n",
       "      <td>0</td>\n",
       "    </tr>\n",
       "    <tr>\n",
       "      <th>3</th>\n",
       "      <td>SEND TO C</td>\n",
       "      <td>1.678160e+09</td>\n",
       "      <td>0</td>\n",
       "      <td>1</td>\n",
       "    </tr>\n",
       "    <tr>\n",
       "      <th>4</th>\n",
       "      <td>SEND TO C</td>\n",
       "      <td>1.678160e+09</td>\n",
       "      <td>0</td>\n",
       "      <td>2</td>\n",
       "    </tr>\n",
       "    <tr>\n",
       "      <th>5</th>\n",
       "      <td>RECEIVED FROM ('127.0.0.1', 61076)</td>\n",
       "      <td>1.678160e+09</td>\n",
       "      <td>1</td>\n",
       "      <td>24</td>\n",
       "    </tr>\n",
       "    <tr>\n",
       "      <th>6</th>\n",
       "      <td>RECEIVED FROM ('127.0.0.1', 60888)</td>\n",
       "      <td>1.678160e+09</td>\n",
       "      <td>2</td>\n",
       "      <td>24</td>\n",
       "    </tr>\n",
       "    <tr>\n",
       "      <th>7</th>\n",
       "      <td>RECEIVED FROM ('127.0.0.1', 61077)</td>\n",
       "      <td>1.678160e+09</td>\n",
       "      <td>3</td>\n",
       "      <td>24</td>\n",
       "    </tr>\n",
       "    <tr>\n",
       "      <th>8</th>\n",
       "      <td>SEND TO C</td>\n",
       "      <td>1.678160e+09</td>\n",
       "      <td>0</td>\n",
       "      <td>3</td>\n",
       "    </tr>\n",
       "  </tbody>\n",
       "</table>\n",
       "</div>"
      ],
      "text/plain": [
       "                             received   global time  len of queue  \\\n",
       "0  RECEIVED FROM ('127.0.0.1', 60888)  1.678160e+09             1   \n",
       "1  RECEIVED FROM ('127.0.0.1', 61077)  1.678160e+09             2   \n",
       "2                           SEND TO B  1.678160e+09             0   \n",
       "3                           SEND TO C  1.678160e+09             0   \n",
       "4                           SEND TO C  1.678160e+09             0   \n",
       "5  RECEIVED FROM ('127.0.0.1', 61076)  1.678160e+09             1   \n",
       "6  RECEIVED FROM ('127.0.0.1', 60888)  1.678160e+09             2   \n",
       "7  RECEIVED FROM ('127.0.0.1', 61077)  1.678160e+09             3   \n",
       "8                           SEND TO C  1.678160e+09             0   \n",
       "\n",
       "   logical clock time  \n",
       "0                  17  \n",
       "1                  17  \n",
       "2                   0  \n",
       "3                   1  \n",
       "4                   2  \n",
       "5                  24  \n",
       "6                  24  \n",
       "7                  24  \n",
       "8                   3  "
      ]
     },
     "execution_count": 16,
     "metadata": {},
     "output_type": "execute_result"
    }
   ],
   "source": [
    "A"
   ]
  },
  {
   "cell_type": "code",
   "execution_count": 17,
   "metadata": {},
   "outputs": [
    {
     "data": {
      "text/plain": [
       "[<matplotlib.lines.Line2D at 0x1202b3c40>]"
      ]
     },
     "execution_count": 17,
     "metadata": {},
     "output_type": "execute_result"
    },
    {
     "data": {
      "image/png": "[encoded data removed]",
      "text/plain": [
       "<Figure size 432x288 with 1 Axes>"
      ]
     },
     "metadata": {
      "needs_background": "light"
     },
     "output_type": "display_data"
    }
   ],
   "source": [
    "plt.plot(A[\"global time\"], A[\"logical clock time\"], label=\"A\")"
   ]
  },
  {
   "cell_type": "code",
   "execution_count": 18,
   "metadata": {},
   "outputs": [
    {
     "data": {
      "text/plain": [
       "[<matplotlib.lines.Line2D at 0x12042f850>]"
      ]
     },
     "execution_count": 18,
     "metadata": {},
     "output_type": "execute_result"
    },
    {
     "data": {
      "image/png": "[encoded data removed]",
      "text/plain": [
       "<Figure size 432x288 with 1 Axes>"
      ]
     },
     "metadata": {
      "needs_background": "light"
     },
     "output_type": "display_data"
    }
   ],
   "source": [
    "plt.plot(B[\"global time\"], B[\"logical clock time\"], label=\"B\")"
   ]
  },
  {
   "cell_type": "code",
   "execution_count": null,
   "metadata": {},
   "outputs": [],
   "source": []
  }
 ],
 "metadata": {
  "kernelspec": {
   "display_name": "262",
   "language": "python",
   "name": "python3"
  },
  "language_info": {
   "codemirror_mode": {
    "name": "ipython",
    "version": 3
   },
   "file_extension": ".py",
   "mimetype": "text/x-python",
   "name": "python",
   "nbconvert_exporter": "python",
   "pygments_lexer": "ipython3",
   "version": "3.9.16"
  },
  "orig_nbformat": 4,
  "vscode": {
   "interpreter": {
    "hash": "d2f33f4fe43cd9f9bd3b62961aa1f30c6866a5082061c308c7fa85e2383edf14"
   }
  }
 },
 "nbformat": 4,
 "nbformat_minor": 2
}
